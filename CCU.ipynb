{
 "cells": [
  {
   "cell_type": "code",
   "execution_count": 1,
   "id": "c2b284b9",
   "metadata": {},
   "outputs": [],
   "source": [
    "import pandas"
   ]
  },
  {
   "cell_type": "code",
   "execution_count": 2,
   "id": "d147a351",
   "metadata": {},
   "outputs": [],
   "source": [
    "df = pandas.read_csv(\"CreditCardUpgrade(1).csv\")"
   ]
  },
  {
   "cell_type": "code",
   "execution_count": 3,
   "id": "4384abea",
   "metadata": {},
   "outputs": [],
   "source": [
    "X = df.loc[:,[\"Purchases\", \"SuppCard\"]]"
   ]
  },
  {
   "cell_type": "code",
   "execution_count": 4,
   "id": "c702b31e",
   "metadata": {},
   "outputs": [],
   "source": [
    "Y = df.loc[:,[\"Upgraded\"]]"
   ]
  },
  {
   "cell_type": "code",
   "execution_count": 5,
   "id": "a220a082",
   "metadata": {},
   "outputs": [],
   "source": [
    "from sklearn import tree"
   ]
  },
  {
   "cell_type": "code",
   "execution_count": 6,
   "id": "e86499a4",
   "metadata": {},
   "outputs": [],
   "source": [
    "model = tree.DecisionTreeClassifier(max_depth=3)"
   ]
  },
  {
   "cell_type": "code",
   "execution_count": 7,
   "id": "ea444c3c",
   "metadata": {},
   "outputs": [],
   "source": [
    "from sklearn.metrics import confusion_matrix"
   ]
  },
  {
   "cell_type": "code",
   "execution_count": 8,
   "id": "1d2e9a49",
   "metadata": {},
   "outputs": [
    {
     "name": "stdout",
     "output_type": "stream",
     "text": [
      "[[15  2]\n",
      " [ 1 12]]\n",
      "0.9\n"
     ]
    }
   ],
   "source": [
    "model.fit(X,Y)\n",
    "pred = model.predict(X)\n",
    "cm = confusion_matrix(Y,pred)\n",
    "print(cm)\n",
    "print((cm[0,0]+cm[1,1])/(sum(sum(cm))))"
   ]
  },
  {
   "cell_type": "code",
   "execution_count": 9,
   "id": "50792913",
   "metadata": {},
   "outputs": [],
   "source": [
    "import joblib"
   ]
  },
  {
   "cell_type": "code",
   "execution_count": 10,
   "id": "af3f2f4c",
   "metadata": {},
   "outputs": [
    {
     "data": {
      "text/plain": [
       "['CCU_DT']"
      ]
     },
     "execution_count": 10,
     "metadata": {},
     "output_type": "execute_result"
    }
   ],
   "source": [
    "joblib.dump(model,\"CCU_DT\")"
   ]
  },
  {
   "cell_type": "code",
   "execution_count": 11,
   "id": "fc438149",
   "metadata": {},
   "outputs": [],
   "source": [
    "from sklearn import linear_model"
   ]
  },
  {
   "cell_type": "code",
   "execution_count": 12,
   "id": "8cd001d2",
   "metadata": {},
   "outputs": [],
   "source": [
    "model = linear_model.LogisticRegression()"
   ]
  },
  {
   "cell_type": "code",
   "execution_count": 13,
   "id": "66621b8d",
   "metadata": {},
   "outputs": [
    {
     "name": "stdout",
     "output_type": "stream",
     "text": [
      "[[14  3]\n",
      " [ 2 11]]\n",
      "0.8333333333333334\n"
     ]
    },
    {
     "name": "stderr",
     "output_type": "stream",
     "text": [
      "C:\\Users\\yu.xian.lim\\Anaconda3\\lib\\site-packages\\sklearn\\utils\\validation.py:63: DataConversionWarning: A column-vector y was passed when a 1d array was expected. Please change the shape of y to (n_samples, ), for example using ravel().\n",
      "  return f(*args, **kwargs)\n"
     ]
    }
   ],
   "source": [
    "model.fit(X,Y)\n",
    "pred = model.predict(X)\n",
    "cm = confusion_matrix(Y,pred)\n",
    "print(cm)\n",
    "print((cm[0,0]+cm[1,1])/(sum(sum(cm))))"
   ]
  },
  {
   "cell_type": "code",
   "execution_count": 14,
   "id": "a334792f",
   "metadata": {},
   "outputs": [
    {
     "data": {
      "text/plain": [
       "['CCU_Reg']"
      ]
     },
     "execution_count": 14,
     "metadata": {},
     "output_type": "execute_result"
    }
   ],
   "source": [
    "joblib.dump(model,\"CCU_Reg\")"
   ]
  },
  {
   "cell_type": "code",
   "execution_count": 15,
   "id": "a215c4be",
   "metadata": {},
   "outputs": [],
   "source": [
    "from sklearn.neural_network import MLPClassifier"
   ]
  },
  {
   "cell_type": "code",
   "execution_count": 16,
   "id": "773aa69b",
   "metadata": {},
   "outputs": [],
   "source": [
    "model = MLPClassifier(solver=\"lbfgs\", hidden_layer_sizes=(6,6))"
   ]
  },
  {
   "cell_type": "code",
   "execution_count": 17,
   "id": "44104c95",
   "metadata": {},
   "outputs": [
    {
     "name": "stderr",
     "output_type": "stream",
     "text": [
      "C:\\Users\\yu.xian.lim\\Anaconda3\\lib\\site-packages\\sklearn\\utils\\validation.py:63: DataConversionWarning: A column-vector y was passed when a 1d array was expected. Please change the shape of y to (n_samples, ), for example using ravel().\n",
      "  return f(*args, **kwargs)\n"
     ]
    },
    {
     "name": "stdout",
     "output_type": "stream",
     "text": [
      "[[13  4]\n",
      " [ 2 11]]\n",
      "0.8\n"
     ]
    }
   ],
   "source": [
    "model.fit(X,Y)\n",
    "pred = model.predict(X)\n",
    "cm = confusion_matrix(Y,pred)\n",
    "print(cm)\n",
    "print((cm[0,0]+cm[1,1])/(sum(sum(cm))))"
   ]
  },
  {
   "cell_type": "code",
   "execution_count": 18,
   "id": "0d2d638f",
   "metadata": {},
   "outputs": [
    {
     "data": {
      "text/plain": [
       "['CCU_NN']"
      ]
     },
     "execution_count": 18,
     "metadata": {},
     "output_type": "execute_result"
    }
   ],
   "source": [
    "joblib.dump(model,\"CCU_NN\")"
   ]
  },
  {
   "cell_type": "code",
   "execution_count": 19,
   "id": "e223cc47",
   "metadata": {},
   "outputs": [],
   "source": [
    "from sklearn.ensemble import RandomForestClassifier"
   ]
  },
  {
   "cell_type": "code",
   "execution_count": 20,
   "id": "af242b89",
   "metadata": {},
   "outputs": [],
   "source": [
    "model = RandomForestClassifier()"
   ]
  },
  {
   "cell_type": "code",
   "execution_count": 21,
   "id": "9c1e3ea5",
   "metadata": {},
   "outputs": [
    {
     "name": "stdout",
     "output_type": "stream",
     "text": [
      "[[17  0]\n",
      " [ 0 13]]\n",
      "1.0\n"
     ]
    },
    {
     "name": "stderr",
     "output_type": "stream",
     "text": [
      "C:\\Users\\YUXIAN~1.LIM\\AppData\\Local\\Temp/ipykernel_17072/2893116819.py:1: DataConversionWarning: A column-vector y was passed when a 1d array was expected. Please change the shape of y to (n_samples,), for example using ravel().\n",
      "  model.fit(X,Y)\n"
     ]
    }
   ],
   "source": [
    "model.fit(X,Y)\n",
    "pred = model.predict(X)\n",
    "cm = confusion_matrix(Y,pred)\n",
    "print(cm)\n",
    "print((cm[0,0]+cm[1,1])/(sum(sum(cm))))"
   ]
  },
  {
   "cell_type": "code",
   "execution_count": 22,
   "id": "5eeebc16",
   "metadata": {},
   "outputs": [
    {
     "data": {
      "text/plain": [
       "['CCU_RF']"
      ]
     },
     "execution_count": 22,
     "metadata": {},
     "output_type": "execute_result"
    }
   ],
   "source": [
    "joblib.dump(model,\"CCU_RF\")"
   ]
  },
  {
   "cell_type": "code",
   "execution_count": 23,
   "id": "7d702039",
   "metadata": {},
   "outputs": [],
   "source": [
    "from sklearn.ensemble import GradientBoostingClassifier"
   ]
  },
  {
   "cell_type": "code",
   "execution_count": 24,
   "id": "ce7d1c51",
   "metadata": {},
   "outputs": [],
   "source": [
    "model = GradientBoostingClassifier()"
   ]
  },
  {
   "cell_type": "code",
   "execution_count": 25,
   "id": "5f7139ea",
   "metadata": {},
   "outputs": [
    {
     "name": "stdout",
     "output_type": "stream",
     "text": [
      "[[17  0]\n",
      " [ 0 13]]\n",
      "1.0\n"
     ]
    },
    {
     "name": "stderr",
     "output_type": "stream",
     "text": [
      "C:\\Users\\yu.xian.lim\\Anaconda3\\lib\\site-packages\\sklearn\\utils\\validation.py:63: DataConversionWarning: A column-vector y was passed when a 1d array was expected. Please change the shape of y to (n_samples, ), for example using ravel().\n",
      "  return f(*args, **kwargs)\n"
     ]
    }
   ],
   "source": [
    "model.fit(X,Y)\n",
    "pred = model.predict(X)\n",
    "cm = confusion_matrix(Y,pred)\n",
    "print(cm)\n",
    "print((cm[0,0]+cm[1,1])/(sum(sum(cm))))"
   ]
  },
  {
   "cell_type": "code",
   "execution_count": 26,
   "id": "db79a9b5",
   "metadata": {},
   "outputs": [
    {
     "data": {
      "text/plain": [
       "['CCU_GB']"
      ]
     },
     "execution_count": 26,
     "metadata": {},
     "output_type": "execute_result"
    }
   ],
   "source": [
    "joblib.dump(model,\"CCU_GB\")"
   ]
  }
 ],
 "metadata": {
  "kernelspec": {
   "display_name": "Python 3 (ipykernel)",
   "language": "python",
   "name": "python3"
  },
  "language_info": {
   "codemirror_mode": {
    "name": "ipython",
    "version": 3
   },
   "file_extension": ".py",
   "mimetype": "text/x-python",
   "name": "python",
   "nbconvert_exporter": "python",
   "pygments_lexer": "ipython3",
   "version": "3.9.7"
  }
 },
 "nbformat": 4,
 "nbformat_minor": 5
}
